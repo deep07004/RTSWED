{
 "cells": [
  {
   "cell_type": "code",
   "execution_count": 1,
   "id": "6c3c567f-3abd-4ca9-8a43-00109126a156",
   "metadata": {},
   "outputs": [],
   "source": [
    "import sys, os, argparse, yaml, logging, time\n",
    "from obspy.core import UTCDateTime\n",
    "from obspy import read_inventory, Inventory\n",
    "from obspy import read_inventory\n",
    "import pandas as pd\n",
    "import pygmt\n",
    "import maketriad"
   ]
  },
  {
   "cell_type": "code",
   "execution_count": 2,
   "id": "b1056e3d-037b-4079-9520-66826bffa241",
   "metadata": {},
   "outputs": [],
   "source": [
    "inv = read_inventory('Inventory.xml')"
   ]
  },
  {
   "cell_type": "code",
   "execution_count": 3,
   "id": "efbcc711-4e6b-41ff-8e36-c076eec596a9",
   "metadata": {},
   "outputs": [],
   "source": [
    "triads = maketriad.maketriad(inv, minlen=10, maxlen=1200, minang=10, maxang=120)"
   ]
  },
  {
   "cell_type": "code",
   "execution_count": 4,
   "id": "78b5793d-bb44-4f28-8066-dccf4f281652",
   "metadata": {},
   "outputs": [],
   "source": [
    "xx= [['AU.RABL', -4.1912, 152.163696],\n",
    " ['AU.NFK', -29.043301, 167.938904],\n",
    " ['NZ.URZ', -38.259249, 177.110894]]"
   ]
  },
  {
   "cell_type": "code",
   "execution_count": 23,
   "id": "0e5bb520-4538-47cc-b016-5fe85023ba61",
   "metadata": {},
   "outputs": [
    {
     "data": {
      "text/plain": [
       "<triad.Triads at 0x14c79d4ddba0>"
      ]
     },
     "execution_count": 23,
     "metadata": {},
     "output_type": "execute_result"
    }
   ],
   "source": [
    "triads"
   ]
  },
  {
   "cell_type": "code",
   "execution_count": null,
   "id": "aa4bf7eb-851e-4266-83e3-7100c22b5910",
   "metadata": {},
   "outputs": [],
   "source": []
  }
 ],
 "metadata": {
  "kernelspec": {
   "display_name": "Python 3 (ipykernel)",
   "language": "python",
   "name": "python3"
  },
  "language_info": {
   "codemirror_mode": {
    "name": "ipython",
    "version": 3
   },
   "file_extension": ".py",
   "mimetype": "text/x-python",
   "name": "python",
   "nbconvert_exporter": "python",
   "pygments_lexer": "ipython3",
   "version": "3.10.6"
  }
 },
 "nbformat": 4,
 "nbformat_minor": 5
}
