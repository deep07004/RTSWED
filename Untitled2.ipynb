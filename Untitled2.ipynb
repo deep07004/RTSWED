{
 "cells": [
  {
   "cell_type": "code",
   "execution_count": 1,
   "id": "75c13671-c3b8-4a4e-8b24-bb5906f53f8e",
   "metadata": {},
   "outputs": [],
   "source": [
    "import triad"
   ]
  },
  {
   "cell_type": "code",
   "execution_count": 3,
   "id": "13fad98f-65eb-44b7-b02b-7ea6ca70c5cd",
   "metadata": {},
   "outputs": [],
   "source": [
    "a=triad.Triad()"
   ]
  },
  {
   "cell_type": "code",
   "execution_count": 4,
   "id": "18491331-f7c4-4485-9a80-0735c0810f91",
   "metadata": {},
   "outputs": [
    {
     "ename": "AttributeError",
     "evalue": "'Triad' object has no attribute 'stations'",
     "output_type": "error",
     "traceback": [
      "\u001b[0;31m---------------------------------------------------------------------------\u001b[0m",
      "\u001b[0;31mAttributeError\u001b[0m                            Traceback (most recent call last)",
      "Cell \u001b[0;32mIn [4], line 1\u001b[0m\n\u001b[0;32m----> 1\u001b[0m a\u001b[38;5;241m.\u001b[39mcalc_dis_ang()\n",
      "File \u001b[0;32m~/CWP/Landslide/RTSWED/triad.py:16\u001b[0m, in \u001b[0;36mTriad.calc_dis_ang\u001b[0;34m(self)\u001b[0m\n\u001b[1;32m     14\u001b[0m \u001b[38;5;28;01mdef\u001b[39;00m \u001b[38;5;21mcalc_dis_ang\u001b[39m(\u001b[38;5;28mself\u001b[39m):\n\u001b[1;32m     15\u001b[0m     gl \u001b[38;5;241m=\u001b[39m Geodesic\u001b[38;5;241m.\u001b[39mWGS84\n\u001b[0;32m---> 16\u001b[0m     sta \u001b[38;5;241m=\u001b[39m \u001b[38;5;28;43mself\u001b[39;49m\u001b[38;5;241;43m.\u001b[39;49m\u001b[43mstations\u001b[49m\n\u001b[1;32m     17\u001b[0m     dist \u001b[38;5;241m=\u001b[39m np\u001b[38;5;241m.\u001b[39mzeros(\u001b[38;5;241m3\u001b[39m)\n\u001b[1;32m     18\u001b[0m     ang \u001b[38;5;241m=\u001b[39m np\u001b[38;5;241m.\u001b[39mzeros(\u001b[38;5;241m3\u001b[39m)\n",
      "\u001b[0;31mAttributeError\u001b[0m: 'Triad' object has no attribute 'stations'"
     ]
    }
   ],
   "source": [
    "a.calc_dis_ang()"
   ]
  },
  {
   "cell_type": "code",
   "execution_count": null,
   "id": "7eefe0f0-b1ea-4f20-a448-4864e44553c7",
   "metadata": {},
   "outputs": [],
   "source": []
  }
 ],
 "metadata": {
  "kernelspec": {
   "display_name": "Python 3 (ipykernel)",
   "language": "python",
   "name": "python3"
  },
  "language_info": {
   "codemirror_mode": {
    "name": "ipython",
    "version": 3
   },
   "file_extension": ".py",
   "mimetype": "text/x-python",
   "name": "python",
   "nbconvert_exporter": "python",
   "pygments_lexer": "ipython3",
   "version": "3.10.6"
  }
 },
 "nbformat": 4,
 "nbformat_minor": 5
}
