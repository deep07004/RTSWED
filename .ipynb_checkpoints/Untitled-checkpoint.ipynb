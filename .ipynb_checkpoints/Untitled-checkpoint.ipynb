{
 "cells": [
  {
   "cell_type": "code",
   "execution_count": 1,
   "id": "70cdc089-cde0-4782-afe8-02d53ba3d04a",
   "metadata": {},
   "outputs": [],
   "source": [
    "import sys, os, argparse, yaml, logging, time\n",
    "from obspy.core import UTCDateTime\n",
    "from obspy import read_inventory, Inventory\n",
    "from obspy import read_inventory\n",
    "import pandas as pd\n",
    "import pygmt\n",
    "import maketriad"
   ]
  },
  {
   "cell_type": "code",
   "execution_count": 2,
   "id": "89f37c07-b474-4123-870b-0c6296cbeb0e",
   "metadata": {},
   "outputs": [],
   "source": [
    "inv = read_inventory('Inventory.xml')\n",
    "triads = maketriad.maketriad(inv, minlen=10, maxlen=1200, minang=10, maxang=120)"
   ]
  },
  {
   "cell_type": "code",
   "execution_count": 3,
   "id": "984ad2d3-6487-4bce-90d9-635709686676",
   "metadata": {},
   "outputs": [],
   "source": [
    "t1 = UTCDateTime(\"2022-1-15T04:14:45\")\n",
    "t2= t1+3600"
   ]
  },
  {
   "cell_type": "code",
   "execution_count": null,
   "id": "efef5ac4-8fcc-4ca5-9a9f-27b614fb1671",
   "metadata": {},
   "outputs": [],
   "source": [
    "triads.get_waveform(start=t1,end=t2)"
   ]
  }
 ],
 "metadata": {
  "kernelspec": {
   "display_name": "Python 3 (ipykernel)",
   "language": "python",
   "name": "python3"
  },
  "language_info": {
   "codemirror_mode": {
    "name": "ipython",
    "version": 3
   },
   "file_extension": ".py",
   "mimetype": "text/x-python",
   "name": "python",
   "nbconvert_exporter": "python",
   "pygments_lexer": "ipython3",
   "version": "3.10.6"
  }
 },
 "nbformat": 4,
 "nbformat_minor": 5
}
